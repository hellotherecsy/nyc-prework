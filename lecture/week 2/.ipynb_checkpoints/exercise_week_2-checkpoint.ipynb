{
 "cells": [
  {
   "cell_type": "markdown",
   "metadata": {},
   "source": [
    "## Data structures"
   ]
  },
  {
   "cell_type": "code",
   "execution_count": 15,
   "metadata": {
    "collapsed": true
   },
   "outputs": [],
   "source": [
    "my_list = ['first', 'second', 'third', 'fourth']\n",
    "\n",
    "\n",
    "def switch_item(lis,i,j):\n",
    "    temp   = lis[i]\n",
    "    lis[i] = lis[j]\n",
    "    lis[j] = temp\n"
   ]
  },
  {
   "cell_type": "code",
   "execution_count": 16,
   "metadata": {},
   "outputs": [
    {
     "name": "stdout",
     "output_type": "stream",
     "text": [
      "['first', 'fourth', 'third', 'second']\n"
     ]
    }
   ],
   "source": [
    "switch_item(my_list, 1, -1)\n",
    "print(my_list)"
   ]
  },
  {
   "cell_type": "code",
   "execution_count": 25,
   "metadata": {
    "collapsed": true
   },
   "outputs": [],
   "source": [
    "inventory = {'pumpkin' : 20, \n",
    "             'fruit' : ['apple', 'pear'],\n",
    "             'vegetable' : ['potato', 'onion', 'lettuce']}\n",
    "\n",
    "inventory['meat'] = ['beef', 'chicken','pork']\n",
    "inventory['vegetable'] = sorted(inventory['vegetable'])\n",
    "inventory['pumpkin'] = inventory['pumpkin'] + 5\n"
   ]
  },
  {
   "cell_type": "code",
   "execution_count": 26,
   "metadata": {},
   "outputs": [
    {
     "name": "stdout",
     "output_type": "stream",
     "text": [
      "{'pumpkin': 25, 'fruit': ['apple', 'pear'], 'vegetable': ['lettuce', 'onion', 'potato'], 'meat': ['beef', 'chicken', 'pork']}\n"
     ]
    }
   ],
   "source": [
    "print(inventory)"
   ]
  },
  {
   "cell_type": "code",
   "execution_count": 38,
   "metadata": {
    "collapsed": true
   },
   "outputs": [],
   "source": [
    "# 1\n",
    "def absolute(x):\n",
    "    if x < 0 : \n",
    "        x = x * -1\n",
    "    return x\n",
    "\n",
    "# 2  \n",
    "def ifelse(response, choice1, choice2):\n",
    "    if response == True :\n",
    "        return choice1\n",
    "    else:\n",
    "        return choice2\n",
    "\n",
    "    "
   ]
  },
  {
   "cell_type": "code",
   "execution_count": 36,
   "metadata": {},
   "outputs": [
    {
     "name": "stdout",
     "output_type": "stream",
     "text": [
      "5\n"
     ]
    }
   ],
   "source": [
    "print(absolute(5))"
   ]
  },
  {
   "cell_type": "code",
   "execution_count": null,
   "metadata": {
    "collapsed": true
   },
   "outputs": [],
   "source": [
    "### Your code here!\n",
    "#2\n",
    "def leap_year(y):\n",
    "    return y % 400 == 0 or (y % 4 ==0 and y % 100 != 0)\n",
    "\n",
    "#3\n",
    "leap_years = lambda L:  filter(leap_year, L)"
   ]
  },
  {
   "cell_type": "markdown",
   "metadata": {
    "collapsed": true
   },
   "source": [
    "## Loop 1"
   ]
  },
  {
   "cell_type": "code",
   "execution_count": 55,
   "metadata": {},
   "outputs": [
    {
     "name": "stdout",
     "output_type": "stream",
     "text": [
      "2 2\n",
      "3 5\n",
      "5 10\n",
      "7 17\n",
      "11 28\n"
     ]
    }
   ],
   "source": [
    "### Your code here!\n",
    "\n",
    "primes = [2, 3, 5, 7, 11]\n",
    "\n",
    "sum_ = 0\n",
    "for prime in primes:\n",
    "    sum_ = sum_ + prime\n",
    "    print( prime, sum_ )\n",
    "\n",
    "    \n"
   ]
  },
  {
   "cell_type": "markdown",
   "metadata": {
    "collapsed": true
   },
   "source": [
    "## Loop2 "
   ]
  },
  {
   "cell_type": "code",
   "execution_count": 60,
   "metadata": {},
   "outputs": [
    {
     "name": "stdout",
     "output_type": "stream",
     "text": [
      "3 don\n",
      "7 mike\n",
      "13 vivian\n",
      "17 saul\n"
     ]
    }
   ],
   "source": [
    "### Your code here!\n",
    "\n",
    "names = ['don', 'mike', 'vivian', 'saul']\n",
    "\n",
    "total_length = 0\n",
    "for j in range(4):\n",
    "    total_length = total_length + len(names[j])\n",
    "    print(total_length, names[j] )"
   ]
  },
  {
   "cell_type": "markdown",
   "metadata": {},
   "source": [
    "## Loop3"
   ]
  },
  {
   "cell_type": "code",
   "execution_count": 88,
   "metadata": {
    "collapsed": true
   },
   "outputs": [],
   "source": [
    "names = ['y', 'X', 'T', 'e', 'D', 'Z', 'H', 'W', 'n', 'I']\n",
    "\n",
    "def map_upper_case(strings_list):\n",
    "    lis = []\n",
    "    for a in strings_list:\n",
    "        lis.append(a.upper())\n",
    "    return lis\n",
    "    "
   ]
  },
  {
   "cell_type": "code",
   "execution_count": 89,
   "metadata": {},
   "outputs": [
    {
     "name": "stdout",
     "output_type": "stream",
     "text": [
      "['Y', 'X', 'T', 'E', 'D', 'Z', 'H', 'W', 'N', 'I']\n"
     ]
    }
   ],
   "source": [
    "print(map_upper_case(names))"
   ]
  },
  {
   "cell_type": "code",
   "execution_count": null,
   "metadata": {
    "collapsed": true
   },
   "outputs": [],
   "source": []
  },
  {
   "cell_type": "code",
   "execution_count": null,
   "metadata": {
    "collapsed": true
   },
   "outputs": [],
   "source": []
  },
  {
   "cell_type": "code",
   "execution_count": null,
   "metadata": {
    "collapsed": true
   },
   "outputs": [],
   "source": []
  },
  {
   "cell_type": "code",
   "execution_count": null,
   "metadata": {
    "collapsed": true
   },
   "outputs": [],
   "source": []
  },
  {
   "cell_type": "code",
   "execution_count": null,
   "metadata": {
    "collapsed": true
   },
   "outputs": [],
   "source": []
  }
 ],
 "metadata": {
  "kernelspec": {
   "display_name": "Python 3",
   "language": "python",
   "name": "python3"
  },
  "language_info": {
   "codemirror_mode": {
    "name": "ipython",
    "version": 3
   },
   "file_extension": ".py",
   "mimetype": "text/x-python",
   "name": "python",
   "nbconvert_exporter": "python",
   "pygments_lexer": "ipython3",
   "version": "3.5.0"
  }
 },
 "nbformat": 4,
 "nbformat_minor": 2
}
