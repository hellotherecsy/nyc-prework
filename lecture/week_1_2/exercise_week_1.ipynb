{
 "cells": [
  {
   "cell_type": "markdown",
   "metadata": {},
   "source": [
    "## Map 1 "
   ]
  },
  {
   "cell_type": "code",
   "execution_count": 55,
   "metadata": {
    "collapsed": true
   },
   "outputs": [],
   "source": [
    "\n",
    "L  = [1, 2, 3]\n",
    "L2 = [[1, 2, 3], [4, 5], [6, 7, 8] ]\n",
    "\n",
    "# 1\n",
    "def square_all(lis):\n",
    "    return map( lambda x: x**2 , lis)\n",
    "# 2\n",
    "Square_all = lambda lis: map( lambda x: x**2 , lis)\n",
    "\n",
    "# 3\n",
    "def get_second(nested_lis):\n",
    "    return map(lambda x: x[1],nested_lis)\n",
    "\n",
    "# 4  \n",
    "Get_second = lambda nested_lis: map(lambda x: x[1],nested_lis)\n",
    "\n",
    "# 5\n",
    "def total_length(nested_lis):\n",
    "    return sum(map(lambda x: len(x),nested_lis))\n",
    "\n",
    "# 6    \n",
    "Total_length = lambda nested_lis: sum(map(lambda x: len(x),nested_lis))\n"
   ]
  },
  {
   "cell_type": "code",
   "execution_count": 54,
   "metadata": {},
   "outputs": [
    {
     "name": "stdout",
     "output_type": "stream",
     "text": [
      "[1, 4, 9]\n",
      "[1, 4, 9]\n",
      "[2, 5, 7]\n",
      "[2, 5, 7]\n",
      "8\n",
      "8\n"
     ]
    }
   ],
   "source": [
    "print(list(square_all(L)))\n",
    "print(list(Square_all(L)))\n",
    "print(list(get_second(L2)))\n",
    "print(list(Get_second(L2)))\n",
    "print(total_length(L2))\n",
    "print(Total_length(L2))\n"
   ]
  },
  {
   "cell_type": "markdown",
   "metadata": {},
   "source": [
    "## Map2 "
   ]
  },
  {
   "cell_type": "code",
   "execution_count": 129,
   "metadata": {
    "collapsed": true
   },
   "outputs": [],
   "source": [
    "L = [[1, 2, 3], [4, 5], [6, 7, 8]] \n",
    "\n",
    "# 1\n",
    "def sum_each(nested_lis):\n",
    "    return map(lambda x: sum(x), nested_lis)\n",
    "\n",
    "# 2\n",
    "Sum_each = lambda nested_lis: map(lambda x: sum(x), nested_lis)\n",
    "\n",
    "# 3\n",
    "def double_each(nested_lis):\n",
    "    y = map(lambda x: map( lambda y: y *2 ,x  ), nested_lis) \n",
    "    return y \n",
    "\n",
    "# 4    \n",
    "#Double_each = lambda nested_lis: # your code here\n",
    "\n"
   ]
  },
  {
   "cell_type": "code",
   "execution_count": 131,
   "metadata": {},
   "outputs": [
    {
     "name": "stdout",
     "output_type": "stream",
     "text": [
      "[6, 9, 21]\n",
      "[6, 9, 21]\n",
      "[<map object at 0x106b97d68>, <map object at 0x106b97240>, <map object at 0x106b97278>]\n"
     ]
    }
   ],
   "source": [
    "print(list(sum_each(L)))\n",
    "print(list(Sum_each(L)))\n",
    "print(list(list(double_each(L))))\n"
   ]
  },
  {
   "cell_type": "markdown",
   "metadata": {},
   "source": [
    "## Filter"
   ]
  },
  {
   "cell_type": "code",
   "execution_count": 173,
   "metadata": {
    "collapsed": true
   },
   "outputs": [],
   "source": [
    "L1 = [2, 5, 4, 9]\n",
    "L2 = [2, 2, 5, 0]\n",
    "L3 = [[2, 5, 4, 9], [2, 2], [3, 4, 5]]\n",
    "\n",
    "# 1\n",
    "def increase2(List):\n",
    "    return List[0] < List[1]\n",
    "\n",
    "# 2\n",
    "Increase2 = lambda List: List[0] < List[1]\n",
    "\n",
    "# 3\n",
    "def increasing_lists(nested_lis):\n",
    "    return filter(lambda x: increase2(x), nested_lis)\n",
    "\n",
    "# 4\n",
    "Increasing_lists = lambda nested_lis: filter(lambda x: increase2(x), nested_lis)"
   ]
  },
  {
   "cell_type": "code",
   "execution_count": 174,
   "metadata": {},
   "outputs": [
    {
     "name": "stdout",
     "output_type": "stream",
     "text": [
      "True\n",
      "False\n",
      "True\n",
      "False\n",
      "[[2, 5, 4, 9], [3, 4, 5]]\n",
      "[[2, 5, 4, 9], [3, 4, 5]]\n"
     ]
    }
   ],
   "source": [
    "print(increase2(L1))\n",
    "print(increase2(L2))\n",
    "print(Increase2(L1))\n",
    "print(Increase2(L2))\n",
    "\n",
    "print(list(increasing_lists(L3)))\n",
    "print(list(Increasing_lists(L3)))\n"
   ]
  },
  {
   "cell_type": "markdown",
   "metadata": {},
   "source": [
    "## Multi List "
   ]
  },
  {
   "cell_type": "code",
   "execution_count": 225,
   "metadata": {},
   "outputs": [],
   "source": [
    "L1 = ['a', 'b', 7]\n",
    "L2 = [1, 2, 3]\n",
    "L3 = [3, 2, 1]  \n",
    "\n",
    "# 1\n",
    "def number_items(lis):\n",
    "    return zip([1, 2, 3 ], lis)\n",
    "\n",
    "# 2\n",
    "Number_items = lambda lis: zip([1,2,3], lis)\n",
    "\n",
    "# 3\n",
    "def equal_elements(lis1, lis2):\n",
    "    return map( lambda x,y: x == y ,lis1, lis2 )\n",
    "\n",
    "# 4\n",
    "Equal_elements = lambda lis1, lis2: map( lambda x,y: x == y ,lis1, lis2 )\n"
   ]
  },
  {
   "cell_type": "code",
   "execution_count": 226,
   "metadata": {},
   "outputs": [
    {
     "name": "stdout",
     "output_type": "stream",
     "text": [
      "[(1, 'a'), (2, 'b'), (3, 7)]\n",
      "[(1, 'a'), (2, 'b'), (3, 7)]\n",
      "[False, True, False]\n",
      "[False, True, False]\n"
     ]
    }
   ],
   "source": [
    "print(list(number_items(L1)))\n",
    "print(list(Number_items(L1)))\n",
    "\n",
    "print(list(equal_elements(L2,L3)))\n",
    "print(list(Equal_elements(L2,L3)))\n",
    "\n",
    "\n"
   ]
  },
  {
   "cell_type": "markdown",
   "metadata": {
    "collapsed": true
   },
   "source": [
    " ## String "
   ]
  },
  {
   "cell_type": "code",
   "execution_count": 288,
   "metadata": {
    "collapsed": true
   },
   "outputs": [],
   "source": [
    "#s = 'my dog has fleas'\n",
    "#s.find('dog')\n",
    "\n",
    "# 1\n",
    "lis1 = ['today', 'is', 'a', 'nice', 'day']\n",
    "ans_1 = map(lambda x: x.find('i') ,lis1 )\n",
    "\n",
    "# 2\n",
    "s = 'today is a nice day'\n",
    "def find_char(sentence, string):\n",
    "    return   list(map(lambda s: s.find(string), sentence.split()))\n",
    "\n",
    "# 3\n",
    "lis5 = [10, 12, 4, 7]\n",
    "ans_2 = map(lambda x: str(x), lis5 )\n",
    "\n",
    "\n",
    "# 4\n",
    "L = ['No rain', 'Some snow', 'No sleet', 'Dr. No']\n",
    "#def has_no(x):\n",
    "#    return  lambda s: s.find('No') != 1\n",
    "has_no = lambda s: s.find('No') != -1\n",
    "ans_3 = filter(has_no, L)\n",
    "\n",
    "\n",
    " "
   ]
  },
  {
   "cell_type": "code",
   "execution_count": 289,
   "metadata": {},
   "outputs": [
    {
     "name": "stdout",
     "output_type": "stream",
     "text": [
      "['No rain', 'No sleet', 'Dr. No']\n"
     ]
    }
   ],
   "source": [
    "#print(list(ans_1))\n",
    "#print(find_char(s, 'i'))\n",
    "#print(list(ans_2))\n",
    "\n",
    "#print(list(has_no(L)))\n",
    "\n",
    "print(list(ans_3))"
   ]
  },
  {
   "cell_type": "code",
   "execution_count": null,
   "metadata": {
    "collapsed": true
   },
   "outputs": [],
   "source": []
  },
  {
   "cell_type": "code",
   "execution_count": null,
   "metadata": {
    "collapsed": true
   },
   "outputs": [],
   "source": []
  }
 ],
 "metadata": {
  "kernelspec": {
   "display_name": "Python 3",
   "language": "python",
   "name": "python3"
  },
  "language_info": {
   "codemirror_mode": {
    "name": "ipython",
    "version": 3
   },
   "file_extension": ".py",
   "mimetype": "text/x-python",
   "name": "python",
   "nbconvert_exporter": "python",
   "pygments_lexer": "ipython3",
   "version": "3.5.0"
  }
 },
 "nbformat": 4,
 "nbformat_minor": 2
}
